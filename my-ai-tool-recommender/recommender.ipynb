{
 "cells": [
  {
   "cell_type": "code",
   "execution_count": 1,
   "id": "bef13391",
   "metadata": {},
   "outputs": [],
   "source": [
    "import pandas as pd\n",
    "import numpy as np\n",
    "from fuzzywuzzy import process"
   ]
  },
  {
   "cell_type": "code",
   "execution_count": 2,
   "id": "1759e078",
   "metadata": {},
   "outputs": [],
   "source": [
    "df=pd.read_csv('ai_tools.csv')"
   ]
  },
  {
   "cell_type": "code",
   "execution_count": 3,
   "id": "0b8844b7",
   "metadata": {},
   "outputs": [
    {
     "data": {
      "text/html": [
       "<div>\n",
       "<style scoped>\n",
       "    .dataframe tbody tr th:only-of-type {\n",
       "        vertical-align: middle;\n",
       "    }\n",
       "\n",
       "    .dataframe tbody tr th {\n",
       "        vertical-align: top;\n",
       "    }\n",
       "\n",
       "    .dataframe thead th {\n",
       "        text-align: right;\n",
       "    }\n",
       "</style>\n",
       "<table border=\"1\" class=\"dataframe\">\n",
       "  <thead>\n",
       "    <tr style=\"text-align: right;\">\n",
       "      <th></th>\n",
       "      <th>name</th>\n",
       "      <th>category</th>\n",
       "      <th>features</th>\n",
       "      <th>price</th>\n",
       "      <th>popularity</th>\n",
       "      <th>keywords</th>\n",
       "    </tr>\n",
       "  </thead>\n",
       "  <tbody>\n",
       "    <tr>\n",
       "      <th>0</th>\n",
       "      <td>ChatGPT</td>\n",
       "      <td>Text Generation</td>\n",
       "      <td>Free tier,API access,Multilingual</td>\n",
       "      <td>medium</td>\n",
       "      <td>95</td>\n",
       "      <td>chatbot,text generation,code assistant,writing...</td>\n",
       "    </tr>\n",
       "    <tr>\n",
       "      <th>1</th>\n",
       "      <td>Claude</td>\n",
       "      <td>Text Generation</td>\n",
       "      <td>Free tier,Context memory,Multilingual</td>\n",
       "      <td>medium</td>\n",
       "      <td>88</td>\n",
       "      <td>chatbot,long context,writing,analysis</td>\n",
       "    </tr>\n",
       "    <tr>\n",
       "      <th>2</th>\n",
       "      <td>Gemini</td>\n",
       "      <td>Text Generation</td>\n",
       "      <td>Free tier,Integration with Google,Multilingual</td>\n",
       "      <td>medium</td>\n",
       "      <td>85</td>\n",
       "      <td>chatbot,text generation,google integration</td>\n",
       "    </tr>\n",
       "    <tr>\n",
       "      <th>3</th>\n",
       "      <td>MidJourney</td>\n",
       "      <td>Image Generation</td>\n",
       "      <td>Subscription,High quality,No API</td>\n",
       "      <td>high</td>\n",
       "      <td>90</td>\n",
       "      <td>image generation,art,creative design</td>\n",
       "    </tr>\n",
       "    <tr>\n",
       "      <th>4</th>\n",
       "      <td>DALL-E</td>\n",
       "      <td>Image Generation</td>\n",
       "      <td>API access,High quality,Integrated with ChatGPT</td>\n",
       "      <td>medium</td>\n",
       "      <td>87</td>\n",
       "      <td>image generation,illustrations,product design</td>\n",
       "    </tr>\n",
       "  </tbody>\n",
       "</table>\n",
       "</div>"
      ],
      "text/plain": [
       "         name          category  \\\n",
       "0     ChatGPT   Text Generation   \n",
       "1      Claude   Text Generation   \n",
       "2      Gemini   Text Generation   \n",
       "3  MidJourney  Image Generation   \n",
       "4      DALL-E  Image Generation   \n",
       "\n",
       "                                          features   price  popularity  \\\n",
       "0                Free tier,API access,Multilingual  medium          95   \n",
       "1            Free tier,Context memory,Multilingual  medium          88   \n",
       "2   Free tier,Integration with Google,Multilingual  medium          85   \n",
       "3                 Subscription,High quality,No API    high          90   \n",
       "4  API access,High quality,Integrated with ChatGPT  medium          87   \n",
       "\n",
       "                                            keywords  \n",
       "0  chatbot,text generation,code assistant,writing...  \n",
       "1              chatbot,long context,writing,analysis  \n",
       "2         chatbot,text generation,google integration  \n",
       "3               image generation,art,creative design  \n",
       "4      image generation,illustrations,product design  "
      ]
     },
     "execution_count": 3,
     "metadata": {},
     "output_type": "execute_result"
    }
   ],
   "source": [
    "df.head()"
   ]
  },
  {
   "cell_type": "code",
   "execution_count": 31,
   "id": "21972afe",
   "metadata": {},
   "outputs": [
    {
     "name": "stdout",
     "output_type": "stream",
     "text": [
      "Welcome! This is your AI recommender.\n",
      "\n",
      "What do you wish to do with AI? art\n",
      "\n",
      "The best AI tools for your use case are: \n",
      "\tMidJourney\n",
      "\tStable Diffusion\n"
     ]
    }
   ],
   "source": [
    "print('Welcome! This is your AI recommender.\\n')\n",
    "\n",
    "best_tools=[]\n",
    "\n",
    "def recommender():\n",
    "    \n",
    "    search=input('What do you wish to do with AI? ').lower()\n",
    "    \n",
    "    obj=process.extract(search, df['keywords'])\n",
    "    \n",
    "    for i,o in enumerate(obj):\n",
    "        if obj[i][1]==50 or obj[i][1]>50:\n",
    "            feature= obj[i][0]\n",
    "            \n",
    "            tool=df[df['keywords']==feature]\n",
    "            \n",
    "            best_tools.append(tool['name'].iloc[0])\n",
    "    \n",
    "    print(\"\\nThe best AI tools for your use case are: \")\n",
    "    for tool in best_tools:\n",
    "        print(f\"\\t{tool}\")\n",
    "\n",
    "recommender()\n"
   ]
  },
  {
   "cell_type": "code",
   "execution_count": null,
   "id": "6e306b27",
   "metadata": {},
   "outputs": [],
   "source": []
  }
 ],
 "metadata": {
  "kernelspec": {
   "display_name": "Python 3 (ipykernel)",
   "language": "python",
   "name": "python3"
  },
  "language_info": {
   "codemirror_mode": {
    "name": "ipython",
    "version": 3
   },
   "file_extension": ".py",
   "mimetype": "text/x-python",
   "name": "python",
   "nbconvert_exporter": "python",
   "pygments_lexer": "ipython3",
   "version": "3.9.13"
  }
 },
 "nbformat": 4,
 "nbformat_minor": 5
}
